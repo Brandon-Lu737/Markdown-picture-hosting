{
 "cells": [
  {
   "cell_type": "markdown",
   "id": "exact-motorcycle",
   "metadata": {},
   "source": [
    "# Make some money!"
   ]
  },
  {
   "cell_type": "markdown",
   "id": "lonely-petroleum",
   "metadata": {
    "tags": []
   },
   "source": [
    "## Trading Bot\n",
    "Run this cell to start trading on the test exchange!\n",
    "\n",
    "Remember to modify TEST_EXCHANGE to REAL_EXCHANGE after you're confident with your trading strategy to make it count\n",
    "\n",
    "Note if there's a \\[*\\] to the left of the cell, it means we are currently running the cell. To stop it, click the Stop button on the menu bar to send an interrupt\n",
    "\n",
    "The converting formulas are:\n",
    "* 1 PIZZA = 1 SAUCE + 1 DOUGH\n",
    "* 1 CALZONE = 1 SAUCE + 2 DOUGH"
   ]
  },
  {
   "cell_type": "code",
   "execution_count": null,
   "id": "driven-stretch",
   "metadata": {},
   "outputs": [],
   "source": [
    "import sys\n",
    "import time\n",
    "import os\n",
    "%matplotlib inline\n",
    "import matplotlib.pyplot as plt\n",
    "from toy_exchange_client import ExchangeClient, BID_SIDE, ASK_SIDE, Order\n",
    "from IPython.display import clear_output\n",
    "\n",
    "BUY=BID_SIDE\n",
    "SELL=ASK_SIDE\n",
    "\n",
    "# Addresses for the test and real exchange\n",
    "TEST_EXCHANGE=\"http://api.test-toy-exchange.svc.cluster.local:5000\"\n",
    "REAL_EXCHANGE=\"http://api.toy-exchange.svc.cluster.local:5000\"\n",
    "\n",
    "BADGE=\"TODO\" # TODO: this is the username we have given to you\n",
    "SECRET=\"TODO\" # TODO: Change this to the password we have given to you\n",
    "EXCHANGE = TEST_EXCHANGE # TODO: Change me to REAL_EXCHANGE when you're ready\n",
    "\n",
    "client = ExchangeClient(\n",
    "        badge=BADGE,\n",
    "        secret=SECRET,\n",
    "        exchange_url=EXCHANGE\n",
    "        )\n",
    "\n",
    "# Below code are used to plot a graph of current price for a product\n",
    "# Modify it to suit your need\n",
    "last_tops = []\n",
    "def plot_market_state(top_result):\n",
    "    global last_tops\n",
    "    \n",
    "    last_tops.append(top_result)\n",
    "    last_tops = last_tops[-10:]\n",
    "    \n",
    "    reversed_indexes = range(len(last_tops), 0, -1)\n",
    "    timescale = list(map(lambda x: f't-{x}', reversed_indexes))\n",
    "    \n",
    "    ask, = plt.plot(timescale,list(map(lambda top: top['ask'] , last_tops)), label='ASK')\n",
    "    bid, = plt.plot(timescale,list(map(lambda top: top['bid'] , last_tops)), label='BID')\n",
    "    last_trade, = plt.plot(timescale,list(map(lambda top: top['last_trade'] , last_tops)), label='Last Trade')\n",
    "    \n",
    "    plt.legend(handles=[ask, bid, last_trade])\n",
    "    plt.show()\n",
    "    \n",
    "# These flags control what the output is during each iteration\n",
    "print_feed = True\n",
    "print_positions = True\n",
    "plot_feed = False # Turn this on for graph plotting\n",
    "\n",
    "def trade_loop():\n",
    "    clear_output(wait=True) # This clears the output so we don't spam the log\n",
    "    sauce_top = client.top(\"SAUCE\")\n",
    "    \n",
    "    # TODO: implement smart money making strategies in this trade_loop\n",
    "    print(\"Hitting SAUCE\")\n",
    "    # WARNING: this code will attempt to buy 1 SAUCE at price 1000 for every iteration\n",
    "    client.hit(\"SAUCE\", BUY, 1000, 1)\n",
    "    \n",
    "    if print_feed:\n",
    "        print(\"Top Bid/Offer for SAUCE:\")\n",
    "        print(sauce_top)\n",
    "    \n",
    "    if print_positions:\n",
    "        print(\"Positions:\")\n",
    "        print(client.positions())\n",
    "    \n",
    "    if plot_feed:\n",
    "        plot_market_state(sauce_top)\n",
    "        \n",
    "client.run(trade_loop)"
   ]
  }
 ],
 "metadata": {
  "kernelspec": {
   "display_name": "Python 3 (ipykernel)",
   "language": "python",
   "name": "python3"
  },
  "language_info": {
   "codemirror_mode": {
    "name": "ipython",
    "version": 3
   },
   "file_extension": ".py",
   "mimetype": "text/x-python",
   "name": "python",
   "nbconvert_exporter": "python",
   "pygments_lexer": "ipython3",
   "version": "3.9.10"
  }
 },
 "nbformat": 4,
 "nbformat_minor": 5
}
